{
 "cells": [
  {
   "cell_type": "markdown",
   "metadata": {
    "colab": {
     "base_uri": "https://localhost:8080/"
    },
    "executionInfo": {
     "elapsed": 491,
     "status": "ok",
     "timestamp": 1622436025253,
     "user": {
      "displayName": "Manikanta Sambari",
      "photoUrl": "https://lh3.googleusercontent.com/a-/AOh14Gi2Gl8Y_btLZa3L5q1U0P5F3TdnWH_y5M7gEBIYNKc=s64",
      "userId": "06900992562537143936"
     },
     "user_tz": -330
    },
    "id": "xRameAczsi9M",
    "outputId": "5dd379af-d04d-463b-b12f-2b8002f83931"
   },
   "source": [
    "from google.colab import drive\n",
    "drive.mount('/content/drive')"
   ]
  },
  {
   "cell_type": "code",
   "execution_count": 4,
   "metadata": {
    "executionInfo": {
     "elapsed": 4,
     "status": "ok",
     "timestamp": 1622443997447,
     "user": {
      "displayName": "Manikanta Sambari",
      "photoUrl": "https://lh3.googleusercontent.com/a-/AOh14Gi2Gl8Y_btLZa3L5q1U0P5F3TdnWH_y5M7gEBIYNKc=s64",
      "userId": "06900992562537143936"
     },
     "user_tz": -330
    },
    "id": "yeQXf5gGrndv"
   },
   "outputs": [],
   "source": [
    "from tensorflow.keras.models import Sequential\n",
    "from tensorflow.keras.layers import Dense\n",
    "from tensorflow.keras.layers import Convolution2D\n",
    "from tensorflow.keras.layers import MaxPooling2D\n",
    "from tensorflow.keras.layers import Flatten"
   ]
  },
  {
   "cell_type": "code",
   "execution_count": 5,
   "metadata": {
    "executionInfo": {
     "elapsed": 5,
     "status": "ok",
     "timestamp": 1622444000098,
     "user": {
      "displayName": "Manikanta Sambari",
      "photoUrl": "https://lh3.googleusercontent.com/a-/AOh14Gi2Gl8Y_btLZa3L5q1U0P5F3TdnWH_y5M7gEBIYNKc=s64",
      "userId": "06900992562537143936"
     },
     "user_tz": -330
    },
    "id": "OEmeYkOOrndz"
   },
   "outputs": [],
   "source": [
    "from keras.preprocessing.image import ImageDataGenerator\n",
    "train_datagen = ImageDataGenerator(rescale=1./255,shear_range=0.2,zoom_range = 0.2,horizontal_flip = True)\n",
    "test_datagen =  ImageDataGenerator(rescale = 1./255)\n"
   ]
  },
  {
   "cell_type": "code",
   "execution_count": 6,
   "metadata": {
    "colab": {
     "base_uri": "https://localhost:8080/"
    },
    "executionInfo": {
     "elapsed": 358,
     "status": "ok",
     "timestamp": 1622444137463,
     "user": {
      "displayName": "Manikanta Sambari",
      "photoUrl": "https://lh3.googleusercontent.com/a-/AOh14Gi2Gl8Y_btLZa3L5q1U0P5F3TdnWH_y5M7gEBIYNKc=s64",
      "userId": "06900992562537143936"
     },
     "user_tz": -330
    },
    "id": "wh_HO0vLrnd0",
    "outputId": "4220cf7a-f0f6-478f-c2fa-1dc38823f90f"
   },
   "outputs": [
    {
     "name": "stdout",
     "output_type": "stream",
     "text": [
      "Found 121 images belonging to 2 classes.\n",
      "Found 59 images belonging to 2 classes.\n"
     ]
    }
   ],
   "source": [
    "x_train=train_datagen.flow_from_directory(r\"E:\\SmartInternz\\Project\\images\\Train\",target_size=(64,64),batch_size=5,class_mode=\"binary\")\n",
    "x_test=test_datagen.flow_from_directory(r\"E:\\SmartInternz\\Project\\images\\Test\",target_size=(64,64),batch_size=5,class_mode=\"binary\")"
   ]
  },
  {
   "cell_type": "code",
   "execution_count": 7,
   "metadata": {
    "executionInfo": {
     "elapsed": 357,
     "status": "ok",
     "timestamp": 1622444042291,
     "user": {
      "displayName": "Manikanta Sambari",
      "photoUrl": "https://lh3.googleusercontent.com/a-/AOh14Gi2Gl8Y_btLZa3L5q1U0P5F3TdnWH_y5M7gEBIYNKc=s64",
      "userId": "06900992562537143936"
     },
     "user_tz": -330
    },
    "id": "YXkoZjgxrnd1"
   },
   "outputs": [],
   "source": [
    "model=Sequential()"
   ]
  },
  {
   "cell_type": "code",
   "execution_count": 8,
   "metadata": {
    "executionInfo": {
     "elapsed": 377,
     "status": "ok",
     "timestamp": 1622444044390,
     "user": {
      "displayName": "Manikanta Sambari",
      "photoUrl": "https://lh3.googleusercontent.com/a-/AOh14Gi2Gl8Y_btLZa3L5q1U0P5F3TdnWH_y5M7gEBIYNKc=s64",
      "userId": "06900992562537143936"
     },
     "user_tz": -330
    },
    "id": "PdUU877Xrnd2"
   },
   "outputs": [],
   "source": [
    "model.add(Convolution2D(32,(3,3),input_shape=(64,64,3),activation=\"relu\"))"
   ]
  },
  {
   "cell_type": "code",
   "execution_count": 9,
   "metadata": {
    "executionInfo": {
     "elapsed": 360,
     "status": "ok",
     "timestamp": 1622444046514,
     "user": {
      "displayName": "Manikanta Sambari",
      "photoUrl": "https://lh3.googleusercontent.com/a-/AOh14Gi2Gl8Y_btLZa3L5q1U0P5F3TdnWH_y5M7gEBIYNKc=s64",
      "userId": "06900992562537143936"
     },
     "user_tz": -330
    },
    "id": "gAQwQsLkrnd2"
   },
   "outputs": [],
   "source": [
    "model.add(MaxPooling2D(2,2))"
   ]
  },
  {
   "cell_type": "code",
   "execution_count": 10,
   "metadata": {
    "executionInfo": {
     "elapsed": 358,
     "status": "ok",
     "timestamp": 1622444048639,
     "user": {
      "displayName": "Manikanta Sambari",
      "photoUrl": "https://lh3.googleusercontent.com/a-/AOh14Gi2Gl8Y_btLZa3L5q1U0P5F3TdnWH_y5M7gEBIYNKc=s64",
      "userId": "06900992562537143936"
     },
     "user_tz": -330
    },
    "id": "LGFrMuX-rnd3"
   },
   "outputs": [],
   "source": [
    "model.add(Flatten())"
   ]
  },
  {
   "cell_type": "code",
   "execution_count": 11,
   "metadata": {
    "executionInfo": {
     "elapsed": 621,
     "status": "ok",
     "timestamp": 1622444050816,
     "user": {
      "displayName": "Manikanta Sambari",
      "photoUrl": "https://lh3.googleusercontent.com/a-/AOh14Gi2Gl8Y_btLZa3L5q1U0P5F3TdnWH_y5M7gEBIYNKc=s64",
      "userId": "06900992562537143936"
     },
     "user_tz": -330
    },
    "id": "bJb-IJJSrnd3"
   },
   "outputs": [],
   "source": [
    "model.add(Dense(units=32,activation=\"relu\",kernel_initializer=\"random_uniform\"))"
   ]
  },
  {
   "cell_type": "code",
   "execution_count": 12,
   "metadata": {
    "executionInfo": {
     "elapsed": 357,
     "status": "ok",
     "timestamp": 1622444052758,
     "user": {
      "displayName": "Manikanta Sambari",
      "photoUrl": "https://lh3.googleusercontent.com/a-/AOh14Gi2Gl8Y_btLZa3L5q1U0P5F3TdnWH_y5M7gEBIYNKc=s64",
      "userId": "06900992562537143936"
     },
     "user_tz": -330
    },
    "id": "g_yClpjArnd3"
   },
   "outputs": [],
   "source": [
    "model.add(Dense(units=1,activation=\"sigmoid\",kernel_initializer=\"random_uniform\"))"
   ]
  },
  {
   "cell_type": "code",
   "execution_count": 13,
   "metadata": {
    "executionInfo": {
     "elapsed": 2,
     "status": "ok",
     "timestamp": 1622444054439,
     "user": {
      "displayName": "Manikanta Sambari",
      "photoUrl": "https://lh3.googleusercontent.com/a-/AOh14Gi2Gl8Y_btLZa3L5q1U0P5F3TdnWH_y5M7gEBIYNKc=s64",
      "userId": "06900992562537143936"
     },
     "user_tz": -330
    },
    "id": "zZVAH8xHrnd4"
   },
   "outputs": [],
   "source": [
    "model.compile(\"adam\",loss=\"binary_crossentropy\",metrics=[\"accuracy\"])"
   ]
  },
  {
   "cell_type": "code",
   "execution_count": 14,
   "metadata": {
    "colab": {
     "base_uri": "https://localhost:8080/",
     "height": 464
    },
    "executionInfo": {
     "elapsed": 746,
     "status": "error",
     "timestamp": 1622444509627,
     "user": {
      "displayName": "Manikanta Sambari",
      "photoUrl": "https://lh3.googleusercontent.com/a-/AOh14Gi2Gl8Y_btLZa3L5q1U0P5F3TdnWH_y5M7gEBIYNKc=s64",
      "userId": "06900992562537143936"
     },
     "user_tz": -330
    },
    "id": "fl91genFrnd4",
    "outputId": "8bf15f71-71a9-4155-8ec8-47f430d394b4"
   },
   "outputs": [
    {
     "name": "stderr",
     "output_type": "stream",
     "text": [
      "e:\\smartinternz\\project\\env\\lib\\site-packages\\tensorflow\\python\\keras\\engine\\training.py:1940: UserWarning: `Model.fit_generator` is deprecated and will be removed in a future version. Please use `Model.fit`, which supports generators.\n",
      "  warnings.warn('`Model.fit_generator` is deprecated and '\n"
     ]
    },
    {
     "name": "stdout",
     "output_type": "stream",
     "text": [
      "Epoch 1/50\n",
      "3/3 [==============================] - 1s 111ms/step - loss: 0.7286 - accuracy: 0.5333 - val_loss: 0.6916 - val_accuracy: 0.5143\n",
      "Epoch 2/50\n",
      "3/3 [==============================] - 0s 41ms/step - loss: 0.6777 - accuracy: 0.6667 - val_loss: 0.7170 - val_accuracy: 0.5429\n",
      "Epoch 3/50\n",
      "3/3 [==============================] - 0s 40ms/step - loss: 0.8383 - accuracy: 0.4667 - val_loss: 0.7466 - val_accuracy: 0.4286\n",
      "Epoch 4/50\n",
      "3/3 [==============================] - 0s 38ms/step - loss: 0.6659 - accuracy: 0.6667 - val_loss: 0.6948 - val_accuracy: 0.5143\n",
      "Epoch 5/50\n",
      "3/3 [==============================] - 0s 60ms/step - loss: 0.6941 - accuracy: 0.4667 - val_loss: 0.6819 - val_accuracy: 0.5429\n",
      "Epoch 6/50\n",
      "3/3 [==============================] - 0s 37ms/step - loss: 0.6950 - accuracy: 0.3333 - val_loss: 0.6788 - val_accuracy: 0.6000\n",
      "Epoch 7/50\n",
      "3/3 [==============================] - 0s 45ms/step - loss: 0.6954 - accuracy: 0.5333 - val_loss: 0.6788 - val_accuracy: 0.6571\n",
      "Epoch 8/50\n",
      "3/3 [==============================] - 0s 49ms/step - loss: 0.6756 - accuracy: 0.7333 - val_loss: 0.6867 - val_accuracy: 0.4571\n",
      "Epoch 9/50\n",
      "3/3 [==============================] - 0s 50ms/step - loss: 0.6661 - accuracy: 0.6364 - val_loss: 0.7318 - val_accuracy: 0.4857\n",
      "Epoch 10/50\n",
      "3/3 [==============================] - 0s 49ms/step - loss: 0.7402 - accuracy: 0.5333 - val_loss: 0.6887 - val_accuracy: 0.5714\n",
      "Epoch 11/50\n",
      "3/3 [==============================] - 0s 51ms/step - loss: 0.6967 - accuracy: 0.5333 - val_loss: 0.6996 - val_accuracy: 0.4571\n",
      "Epoch 12/50\n",
      "3/3 [==============================] - 0s 61ms/step - loss: 0.6832 - accuracy: 0.5333 - val_loss: 0.6745 - val_accuracy: 0.6000\n",
      "Epoch 13/50\n",
      "3/3 [==============================] - 0s 47ms/step - loss: 0.6391 - accuracy: 0.8000 - val_loss: 0.6678 - val_accuracy: 0.6000\n",
      "Epoch 14/50\n",
      "3/3 [==============================] - 0s 52ms/step - loss: 0.6289 - accuracy: 0.8000 - val_loss: 0.6656 - val_accuracy: 0.6571\n",
      "Epoch 15/50\n",
      "3/3 [==============================] - 0s 52ms/step - loss: 0.6552 - accuracy: 0.6667 - val_loss: 0.6864 - val_accuracy: 0.6000\n",
      "Epoch 16/50\n",
      "3/3 [==============================] - 0s 45ms/step - loss: 0.5842 - accuracy: 0.8000 - val_loss: 0.7393 - val_accuracy: 0.5143\n",
      "Epoch 17/50\n",
      "3/3 [==============================] - 0s 46ms/step - loss: 0.8399 - accuracy: 0.4667 - val_loss: 0.7318 - val_accuracy: 0.5143\n",
      "Epoch 18/50\n",
      "3/3 [==============================] - 0s 46ms/step - loss: 0.7157 - accuracy: 0.5333 - val_loss: 0.6589 - val_accuracy: 0.6286\n",
      "Epoch 19/50\n",
      "3/3 [==============================] - 0s 54ms/step - loss: 0.6388 - accuracy: 0.7333 - val_loss: 0.6600 - val_accuracy: 0.6000\n",
      "Epoch 20/50\n",
      "3/3 [==============================] - 0s 49ms/step - loss: 0.7516 - accuracy: 0.4667 - val_loss: 0.6540 - val_accuracy: 0.6286\n",
      "Epoch 21/50\n",
      "3/3 [==============================] - 0s 52ms/step - loss: 0.6674 - accuracy: 0.6000 - val_loss: 0.6609 - val_accuracy: 0.6286\n",
      "Epoch 22/50\n",
      "3/3 [==============================] - 0s 48ms/step - loss: 0.6790 - accuracy: 0.5333 - val_loss: 0.6657 - val_accuracy: 0.6286\n",
      "Epoch 23/50\n",
      "3/3 [==============================] - 0s 50ms/step - loss: 0.7107 - accuracy: 0.4000 - val_loss: 0.6545 - val_accuracy: 0.5714\n",
      "Epoch 24/50\n",
      "3/3 [==============================] - 0s 51ms/step - loss: 0.6576 - accuracy: 0.6000 - val_loss: 0.7074 - val_accuracy: 0.4857\n",
      "Epoch 25/50\n",
      "3/3 [==============================] - 0s 53ms/step - loss: 0.6336 - accuracy: 0.7333 - val_loss: 0.6412 - val_accuracy: 0.6286\n",
      "Epoch 26/50\n",
      "3/3 [==============================] - 0s 68ms/step - loss: 0.6687 - accuracy: 0.5333 - val_loss: 0.6597 - val_accuracy: 0.5429\n",
      "Epoch 27/50\n",
      "3/3 [==============================] - 0s 47ms/step - loss: 0.6602 - accuracy: 0.5333 - val_loss: 0.6786 - val_accuracy: 0.6000\n",
      "Epoch 28/50\n",
      "3/3 [==============================] - 0s 42ms/step - loss: 0.7170 - accuracy: 0.4667 - val_loss: 0.6204 - val_accuracy: 0.7429\n",
      "Epoch 29/50\n",
      "3/3 [==============================] - 0s 53ms/step - loss: 0.6275 - accuracy: 0.6667 - val_loss: 0.6458 - val_accuracy: 0.7429\n",
      "Epoch 30/50\n",
      "3/3 [==============================] - 0s 53ms/step - loss: 0.6682 - accuracy: 0.6000 - val_loss: 0.6576 - val_accuracy: 0.6857\n",
      "Epoch 31/50\n",
      "3/3 [==============================] - 0s 47ms/step - loss: 0.7314 - accuracy: 0.4000 - val_loss: 0.6698 - val_accuracy: 0.5714\n",
      "Epoch 32/50\n",
      "3/3 [==============================] - 0s 51ms/step - loss: 0.6434 - accuracy: 0.7333 - val_loss: 0.6373 - val_accuracy: 0.7143\n",
      "Epoch 33/50\n",
      "3/3 [==============================] - 0s 65ms/step - loss: 0.6424 - accuracy: 0.8000 - val_loss: 0.6465 - val_accuracy: 0.6571\n",
      "Epoch 34/50\n",
      "3/3 [==============================] - 0s 45ms/step - loss: 0.6133 - accuracy: 0.8667 - val_loss: 0.6625 - val_accuracy: 0.6000\n",
      "Epoch 35/50\n",
      "3/3 [==============================] - 0s 51ms/step - loss: 0.6636 - accuracy: 0.6000 - val_loss: 0.6203 - val_accuracy: 0.6571\n",
      "Epoch 36/50\n",
      "3/3 [==============================] - 0s 47ms/step - loss: 0.5638 - accuracy: 0.8182 - val_loss: 0.7013 - val_accuracy: 0.4857\n",
      "Epoch 37/50\n",
      "3/3 [==============================] - 0s 61ms/step - loss: 0.6479 - accuracy: 0.6667 - val_loss: 0.8107 - val_accuracy: 0.5429\n",
      "Epoch 38/50\n",
      "3/3 [==============================] - 0s 50ms/step - loss: 0.8103 - accuracy: 0.4667 - val_loss: 0.6910 - val_accuracy: 0.5143\n",
      "Epoch 39/50\n",
      "3/3 [==============================] - 0s 49ms/step - loss: 0.5931 - accuracy: 0.6667 - val_loss: 0.6104 - val_accuracy: 0.7143\n",
      "Epoch 40/50\n",
      "3/3 [==============================] - 0s 67ms/step - loss: 0.6235 - accuracy: 0.8000 - val_loss: 0.6321 - val_accuracy: 0.6571\n",
      "Epoch 41/50\n",
      "3/3 [==============================] - 0s 51ms/step - loss: 0.6547 - accuracy: 0.6000 - val_loss: 0.6237 - val_accuracy: 0.6571\n",
      "Epoch 42/50\n",
      "3/3 [==============================] - 0s 50ms/step - loss: 0.6100 - accuracy: 0.6667 - val_loss: 0.6560 - val_accuracy: 0.5714\n",
      "Epoch 43/50\n",
      "3/3 [==============================] - 0s 55ms/step - loss: 0.6215 - accuracy: 0.8000 - val_loss: 0.6373 - val_accuracy: 0.6571\n",
      "Epoch 44/50\n",
      "3/3 [==============================] - 0s 58ms/step - loss: 0.5589 - accuracy: 0.7333 - val_loss: 0.5912 - val_accuracy: 0.7143\n",
      "Epoch 45/50\n",
      "3/3 [==============================] - 0s 61ms/step - loss: 0.7260 - accuracy: 0.5333 - val_loss: 0.6208 - val_accuracy: 0.6571\n",
      "Epoch 46/50\n",
      "3/3 [==============================] - 0s 65ms/step - loss: 0.5634 - accuracy: 0.7333 - val_loss: 0.6008 - val_accuracy: 0.6571\n",
      "Epoch 47/50\n",
      "3/3 [==============================] - 0s 55ms/step - loss: 0.6413 - accuracy: 0.5333 - val_loss: 0.6477 - val_accuracy: 0.6000\n",
      "Epoch 48/50\n",
      "3/3 [==============================] - 0s 50ms/step - loss: 0.5725 - accuracy: 0.6667 - val_loss: 0.5693 - val_accuracy: 0.7429\n",
      "Epoch 49/50\n",
      "3/3 [==============================] - 0s 42ms/step - loss: 0.5906 - accuracy: 0.8000 - val_loss: 0.6052 - val_accuracy: 0.7429\n",
      "Epoch 50/50\n",
      "3/3 [==============================] - 0s 45ms/step - loss: 0.6109 - accuracy: 0.7333 - val_loss: 0.6005 - val_accuracy: 0.7143\n"
     ]
    },
    {
     "data": {
      "text/plain": [
       "<tensorflow.python.keras.callbacks.History at 0x1bc20eccca0>"
      ]
     },
     "execution_count": 14,
     "metadata": {},
     "output_type": "execute_result"
    }
   ],
   "source": [
    "model.fit_generator(x_train,steps_per_epoch=3,epochs=50,validation_data=x_test,validation_steps=7)"
   ]
  },
  {
   "cell_type": "code",
   "execution_count": 16,
   "metadata": {
    "id": "uqVwDFKurnd5"
   },
   "outputs": [],
   "source": [
    "model.save(\"helmet.h5\")"
   ]
  },
  {
   "cell_type": "code",
   "execution_count": 2,
   "metadata": {},
   "outputs": [],
   "source": [
    "import pyttsx3\n",
    "engine = pyttsx3.init()\n",
    "def speak(audio):\n",
    "    engine.say(audio)\n",
    "    engine.runAndWait()\n",
    "    \n",
    "speak(\"Welcome back Manikanta!\")\n",
    "\n"
   ]
  },
  {
   "cell_type": "code",
   "execution_count": 1,
   "metadata": {},
   "outputs": [],
   "source": [
    "from gtts import gTTS\n",
    "import os\n",
    "def talk(permission):\n",
    "    #mytext = permission\n",
    "    language = 'en'\n",
    "    myobj = gTTS(text=permission, lang=language, slow=True)\n",
    "    myobj.save(\"welcome.mp3\")\n",
    "    os.system(\"welcome.mp3\")\n",
    "\n",
    "#talk(\"Welcome back Manikanta!\")"
   ]
  },
  {
   "cell_type": "code",
   "execution_count": null,
   "metadata": {},
   "outputs": [],
   "source": [
    "import time\n",
    "import cv2\n",
    "import numpy as np\n",
    "from tensorflow.keras.models import load_model\n",
    "from tensorflow.keras.preprocessing import image\n",
    "import pyttsx3\n",
    "engine = pyttsx3.init()\n",
    "model = load_model(\"E:\\SmartInternz\\Project\\ipynb_files\\helmet.h5\")\n",
    "video = cv2.VideoCapture('E:\\SmartInternz\\Project\\ipynb_files\\sample-video.mp4')\n",
    "Index = [\"without_helmet\",\"with_helmet\"]\n",
    "count = 0\n",
    "while True:\n",
    "    success,frame = video.read()\n",
    "    frame = cv2.resize(frame, (854,480))\n",
    "    cv2.imwrite('image.jpg',frame)\n",
    "    img = image.load_img('image.jpg',target_size=(64,64))\n",
    "    x = image.img_to_array(img)\n",
    "    x = np.expand_dims(x,axis = 0)\n",
    "    pred = model.predict(x)\n",
    "    pred_array = pred.astype(int)\n",
    "    p = pred_array[0]\n",
    "    if pred_array[0] == 0:\n",
    "      cv2.putText(frame,'Prediction is '+'Without Helmet',(100,100),cv2.FONT_HERSHEY_SIMPLEX,1,(255,255,0),4)\n",
    "      #engine.say('Without Helmet not safe to go')\n",
    "      #engine.runAndWait()\n",
    "      speak('Without Helmet not safe to go')\n",
    "    else:\n",
    "      cv2.putText(frame,'Prediction is '+'With Helmet',(100,100),cv2.FONT_HERSHEY_SIMPLEX,1,(255,255,0),4)\n",
    "      #engine.say('With Helmet safe to go')\n",
    "      #engine.runAndWait()\n",
    "      speak('With Helmet safe to go')\n",
    "    \n",
    "    cv2.imshow('OutputWindow',frame)\n",
    "    #count = count + 1\n",
    "    #time.sleep(1)\n",
    "    \n",
    "    if cv2.waitKey(1) & 0xFF == ord('q'):\n",
    "        break\n",
    "\n",
    "video.release()\n",
    "cv2.destroyAllWindows()"
   ]
  },
  {
   "cell_type": "code",
   "execution_count": null,
   "metadata": {},
   "outputs": [],
   "source": []
  }
 ],
 "metadata": {
  "colab": {
   "collapsed_sections": [],
   "name": "ConvolutionalNeuralNetworks.ipynb",
   "provenance": []
  },
  "kernelspec": {
   "display_name": "Python 3",
   "language": "python",
   "name": "python3"
  },
  "language_info": {
   "codemirror_mode": {
    "name": "ipython",
    "version": 3
   },
   "file_extension": ".py",
   "mimetype": "text/x-python",
   "name": "python",
   "nbconvert_exporter": "python",
   "pygments_lexer": "ipython3",
   "version": "3.9.5"
  }
 },
 "nbformat": 4,
 "nbformat_minor": 1
}
